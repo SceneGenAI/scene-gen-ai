{
 "cells": [
  {
   "cell_type": "code",
   "execution_count": 1,
   "id": "4ef5d210364cfbe",
   "metadata": {
    "collapsed": false,
    "ExecuteTime": {
     "end_time": "2024-06-08T20:10:39.949395Z",
     "start_time": "2024-06-08T20:10:35.423303Z"
    }
   },
   "outputs": [
    {
     "name": "stderr",
     "output_type": "stream",
     "text": [
      "WARNING: Skipping jwt as it is not installed.\n"
     ]
    },
    {
     "name": "stdout",
     "output_type": "stream",
     "text": [
      "Requirement already satisfied: PyJWT in c:\\users\\sasha\\anaconda3\\envs\\ds-study\\lib\\site-packages (2.8.0)\n"
     ]
    }
   ],
   "source": [
    "!pip uninstall jwt\n",
    "!pip install PyJWT -U"
   ]
  },
  {
   "cell_type": "code",
   "outputs": [],
   "source": [
    "import requests\n",
    "import json\n",
    "import time\n",
    "import jwt\n",
    "import os"
   ],
   "metadata": {
    "collapsed": false,
    "ExecuteTime": {
     "end_time": "2024-06-08T20:20:13.341764Z",
     "start_time": "2024-06-08T20:20:13.257485Z"
    }
   },
   "id": "c346dfb819c32bd9",
   "execution_count": 1
  },
  {
   "cell_type": "code",
   "outputs": [],
   "source": [
    "service_account_id = os.environ.get('SERVICE_ACC_ID')"
   ],
   "metadata": {
    "collapsed": true,
    "ExecuteTime": {
     "end_time": "2024-06-08T20:20:15.459440Z",
     "start_time": "2024-06-08T20:20:15.456343Z"
    }
   },
   "id": "initial_id",
   "execution_count": 2
  },
  {
   "cell_type": "code",
   "outputs": [],
   "source": [
    "# key_id = \"aje8sc66mn7cqcmj15a0\"\n",
    "# private_key = os.environ['API_SECRET']\n",
    "# private_key = \"AQVNyOMMa1zs0y0wlUC32pFGTIAov4H1zEjZLeKY\"\n",
    "key = os.environ.get('API_KEY')\n",
    "private_key = os.environ.get('API_SECRET')"
   ],
   "metadata": {
    "collapsed": false,
    "ExecuteTime": {
     "end_time": "2024-06-08T20:20:17.259549Z",
     "start_time": "2024-06-08T20:20:17.256408Z"
    }
   },
   "id": "41769818560ddfe8",
   "execution_count": 3
  },
  {
   "cell_type": "markdown",
   "source": [
    "Model API call"
   ],
   "metadata": {
    "collapsed": false
   },
   "id": "52a5ea3e520d7c38"
  },
  {
   "cell_type": "code",
   "outputs": [],
   "source": [
    "url = 'https://llm.api.cloud.yandex.net/foundationModels/v1/completion'\n",
    "\n",
    "data = {}\n",
    "\n",
    "# model type\n",
    "data['modelUri'] = 'gpt://b1ga68j4036qlm4nu1rh/yandexgpt/latest'\n",
    "\n",
    "# Additional parameters for the model\n",
    "data['completionOptions'] = {\n",
    "    'stream': False, # return all completions at once\n",
    "    'temperature': 0.3, # the higher the temperature, the more random the completions\n",
    "    'max_tokens': 1000, # the maximum number of tokens to generate\n",
    "}\n",
    "\n",
    "# context for the model\n",
    "data['messages'] = [\n",
    "    {\n",
    "    \"role\": \"system\",\n",
    "    \"text\": \"Нужно сгенерировать промпт формата \\\"Объект на фоне\\\". \\\n",
    "        Всегда генерируй 3 варианта промпта, в ответе должны быть только пронумерованные промпты, без вступления. \\\n",
    "        Пример: \\\"Батарея в гостинной с голубыми стенами.\\\" \\\n",
    "        В запросе подается объект. Нужно дописать фон и предлог. Нужно выбирать релевантные фоны для объекта, чтобы картинка, \\\n",
    "        которая могла бы описываться подобным фоном, могла быть на маркетплейсе, продающем мебель. \\\n",
    "        Еще примеры промпта: \\\n",
    "        \\\"Садовые качели на дворике у загородного дома\\\", \\\n",
    "        \\\"Лампа на белом потолке в гостинной с диваном\\\".\"   \n",
    "    },\n",
    "    {\n",
    "    \"role\": \"user\",\n",
    "    \"text\": \"Садовые качели\"\n",
    "    }\n",
    "\n",
    "]"
   ],
   "metadata": {
    "collapsed": false,
    "ExecuteTime": {
     "end_time": "2024-06-08T20:20:20.824192Z",
     "start_time": "2024-06-08T20:20:20.818316Z"
    }
   },
   "id": "5662a92dbd0613f4",
   "execution_count": 5
  },
  {
   "cell_type": "code",
   "outputs": [],
   "source": [
    "# get the response\n",
    "response = requests.post(url, headers={'Authorization': 'Api-Key ' + private_key}, json=data).json()"
   ],
   "metadata": {
    "collapsed": false,
    "ExecuteTime": {
     "end_time": "2024-06-08T20:20:32.629548Z",
     "start_time": "2024-06-08T20:20:30.039449Z"
    }
   },
   "id": "9b4c8e704b716d7c",
   "execution_count": 6
  },
  {
   "cell_type": "code",
   "outputs": [],
   "source": [
    "# response structure\n",
    "{\n",
    "  \"result\": {\n",
    "    \"alternatives\": [\n",
    "      {\n",
    "        \"message\": {\n",
    "          \"role\": \"assistant\",\n",
    "          \"text\": \"Быть или не быть - вот в чём вопрос.\"\n",
    "        },\n",
    "        \"status\": \"ALTERNATIVE_STATUS_FINAL\"\n",
    "      }\n",
    "    ],\n",
    "    \"usage\": {\n",
    "      \"inputTextTokens\": \"28\",\n",
    "      \"completionTokens\": \"10\",\n",
    "      \"totalTokens\": \"38\"\n",
    "    },\n",
    "    \"modelVersion\": \"06.12.2023\"\n",
    "  }\n",
    "}\n"
   ],
   "metadata": {
    "collapsed": false
   },
   "id": "80cd9b9e62a0b0df"
  },
  {
   "cell_type": "code",
   "outputs": [
    {
     "name": "stdout",
     "output_type": "stream",
     "text": [
      "1. Садовые качели на лужайке перед загородным домом.\n",
      "2. Садовые качели в окружении цветущих деревьев и кустарников.\n",
      "3. Садовые качели рядом с бассейном на заднем дворе загородного дома.\n"
     ]
    }
   ],
   "source": [
    "print(response['result']['alternatives'][0]['message']['text'])"
   ],
   "metadata": {
    "collapsed": false,
    "ExecuteTime": {
     "end_time": "2024-06-08T20:20:37.925119Z",
     "start_time": "2024-06-08T20:20:37.921132Z"
    }
   },
   "id": "bc508b32fa64e86f",
   "execution_count": 7
  }
 ],
 "metadata": {
  "kernelspec": {
   "display_name": "Python 3",
   "language": "python",
   "name": "python3"
  },
  "language_info": {
   "codemirror_mode": {
    "name": "ipython",
    "version": 2
   },
   "file_extension": ".py",
   "mimetype": "text/x-python",
   "name": "python",
   "nbconvert_exporter": "python",
   "pygments_lexer": "ipython2",
   "version": "2.7.6"
  }
 },
 "nbformat": 4,
 "nbformat_minor": 5
}
